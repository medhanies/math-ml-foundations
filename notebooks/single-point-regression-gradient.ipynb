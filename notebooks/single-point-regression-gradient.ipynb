{
<<<<<<< HEAD
 "cells": [
  {
   "cell_type": "code",
   "execution_count": 1,
   "id": "62dc35f6",
   "metadata": {},
   "outputs": [
    {
     "ename": "ImportError",
     "evalue": "cannot import name 'ParamSpec' from 'typing_extensions' (/opt/anaconda3/lib/python3.8/site-packages/typing_extensions.py)",
     "output_type": "error",
     "traceback": [
      "\u001b[0;31m---------------------------------------------------------------------------\u001b[0m",
      "\u001b[0;31mImportError\u001b[0m                               Traceback (most recent call last)",
      "\u001b[0;32m<ipython-input-1-eb42ca6e4af3>\u001b[0m in \u001b[0;36m<module>\u001b[0;34m\u001b[0m\n\u001b[0;32m----> 1\u001b[0;31m \u001b[0;32mimport\u001b[0m \u001b[0mtorch\u001b[0m\u001b[0;34m\u001b[0m\u001b[0;34m\u001b[0m\u001b[0m\n\u001b[0m",
      "\u001b[0;32m/opt/anaconda3/lib/python3.8/site-packages/torch/__init__.py\u001b[0m in \u001b[0;36m<module>\u001b[0;34m\u001b[0m\n\u001b[1;32m   1427\u001b[0m \u001b[0;32mfrom\u001b[0m \u001b[0mtorch\u001b[0m \u001b[0;32mimport\u001b[0m \u001b[0mnn\u001b[0m \u001b[0;32mas\u001b[0m \u001b[0mnn\u001b[0m\u001b[0;34m\u001b[0m\u001b[0;34m\u001b[0m\u001b[0m\n\u001b[1;32m   1428\u001b[0m \u001b[0;32mfrom\u001b[0m \u001b[0mtorch\u001b[0m\u001b[0;34m.\u001b[0m\u001b[0msignal\u001b[0m \u001b[0;32mimport\u001b[0m \u001b[0mwindows\u001b[0m \u001b[0;32mas\u001b[0m \u001b[0mwindows\u001b[0m\u001b[0;34m\u001b[0m\u001b[0;34m\u001b[0m\u001b[0m\n\u001b[0;32m-> 1429\u001b[0;31m \u001b[0;32mfrom\u001b[0m \u001b[0mtorch\u001b[0m \u001b[0;32mimport\u001b[0m \u001b[0moptim\u001b[0m \u001b[0;32mas\u001b[0m \u001b[0moptim\u001b[0m\u001b[0;34m\u001b[0m\u001b[0;34m\u001b[0m\u001b[0m\n\u001b[0m\u001b[1;32m   1430\u001b[0m \u001b[0;32mimport\u001b[0m \u001b[0mtorch\u001b[0m\u001b[0;34m.\u001b[0m\u001b[0moptim\u001b[0m\u001b[0;34m.\u001b[0m\u001b[0m_multi_tensor\u001b[0m\u001b[0;34m\u001b[0m\u001b[0;34m\u001b[0m\u001b[0m\n\u001b[1;32m   1431\u001b[0m \u001b[0;32mfrom\u001b[0m \u001b[0mtorch\u001b[0m \u001b[0;32mimport\u001b[0m \u001b[0mmultiprocessing\u001b[0m \u001b[0;32mas\u001b[0m \u001b[0mmultiprocessing\u001b[0m\u001b[0;34m\u001b[0m\u001b[0;34m\u001b[0m\u001b[0m\n",
      "\u001b[0;32m/opt/anaconda3/lib/python3.8/site-packages/torch/optim/__init__.py\u001b[0m in \u001b[0;36m<module>\u001b[0;34m\u001b[0m\n\u001b[1;32m      6\u001b[0m \"\"\"\n\u001b[1;32m      7\u001b[0m \u001b[0;34m\u001b[0m\u001b[0m\n\u001b[0;32m----> 8\u001b[0;31m \u001b[0;32mfrom\u001b[0m \u001b[0;34m.\u001b[0m\u001b[0madadelta\u001b[0m \u001b[0;32mimport\u001b[0m \u001b[0mAdadelta\u001b[0m\u001b[0;34m\u001b[0m\u001b[0;34m\u001b[0m\u001b[0m\n\u001b[0m\u001b[1;32m      9\u001b[0m \u001b[0;32mfrom\u001b[0m \u001b[0;34m.\u001b[0m\u001b[0madagrad\u001b[0m \u001b[0;32mimport\u001b[0m \u001b[0mAdagrad\u001b[0m\u001b[0;34m\u001b[0m\u001b[0;34m\u001b[0m\u001b[0m\n\u001b[1;32m     10\u001b[0m \u001b[0;32mfrom\u001b[0m \u001b[0;34m.\u001b[0m\u001b[0madam\u001b[0m \u001b[0;32mimport\u001b[0m \u001b[0mAdam\u001b[0m\u001b[0;34m\u001b[0m\u001b[0;34m\u001b[0m\u001b[0m\n",
      "\u001b[0;32m/opt/anaconda3/lib/python3.8/site-packages/torch/optim/adadelta.py\u001b[0m in \u001b[0;36m<module>\u001b[0;34m\u001b[0m\n\u001b[1;32m      2\u001b[0m \u001b[0;32mfrom\u001b[0m \u001b[0mtorch\u001b[0m \u001b[0;32mimport\u001b[0m \u001b[0mTensor\u001b[0m\u001b[0;34m\u001b[0m\u001b[0;34m\u001b[0m\u001b[0m\n\u001b[1;32m      3\u001b[0m \u001b[0;34m\u001b[0m\u001b[0m\n\u001b[0;32m----> 4\u001b[0;31m from .optimizer import (Optimizer, _use_grad_for_differentiable, _default_to_fused_or_foreach,\n\u001b[0m\u001b[1;32m      5\u001b[0m                         _differentiable_doc, _foreach_doc, _maximize_doc)\n\u001b[1;32m      6\u001b[0m \u001b[0;32mfrom\u001b[0m \u001b[0mtyping\u001b[0m \u001b[0;32mimport\u001b[0m \u001b[0mList\u001b[0m\u001b[0;34m,\u001b[0m \u001b[0mOptional\u001b[0m\u001b[0;34m\u001b[0m\u001b[0;34m\u001b[0m\u001b[0m\n",
      "\u001b[0;32m/opt/anaconda3/lib/python3.8/site-packages/torch/optim/optimizer.py\u001b[0m in \u001b[0;36m<module>\u001b[0;34m\u001b[0m\n\u001b[1;32m     21\u001b[0m     \u001b[0moverload\u001b[0m\u001b[0;34m,\u001b[0m\u001b[0;34m\u001b[0m\u001b[0;34m\u001b[0m\u001b[0m\n\u001b[1;32m     22\u001b[0m )\n\u001b[0;32m---> 23\u001b[0;31m \u001b[0;32mfrom\u001b[0m \u001b[0mtyping_extensions\u001b[0m \u001b[0;32mimport\u001b[0m \u001b[0mParamSpec\u001b[0m\u001b[0;34m,\u001b[0m \u001b[0mSelf\u001b[0m\u001b[0;34m,\u001b[0m \u001b[0mTypeAlias\u001b[0m\u001b[0;34m\u001b[0m\u001b[0;34m\u001b[0m\u001b[0m\n\u001b[0m\u001b[1;32m     24\u001b[0m \u001b[0;34m\u001b[0m\u001b[0m\n\u001b[1;32m     25\u001b[0m \u001b[0;32mimport\u001b[0m \u001b[0mtorch\u001b[0m\u001b[0;34m\u001b[0m\u001b[0;34m\u001b[0m\u001b[0m\n",
      "\u001b[0;31mImportError\u001b[0m: cannot import name 'ParamSpec' from 'typing_extensions' (/opt/anaconda3/lib/python3.8/site-packages/typing_extensions.py)"
     ]
    }
   ],
   "source": [
    "import torch"
   ]
  },
  {
   "cell_type": "code",
   "execution_count": null,
   "id": "5a0c238f",
   "metadata": {},
   "outputs": [],
   "source": []
  },
  {
   "cell_type": "code",
   "execution_count": null,
   "id": "239863f0",
   "metadata": {},
   "outputs": [],
   "source": []
  },
  {
   "cell_type": "code",
   "execution_count": null,
   "id": "2ea90cfe",
   "metadata": {},
   "outputs": [],
   "source": []
  },
  {
   "cell_type": "code",
   "execution_count": null,
   "id": "1f95c9b2",
   "metadata": {},
   "outputs": [],
   "source": []
  }
 ],
 "metadata": {
  "kernelspec": {
   "display_name": "Python 3",
   "language": "python",
   "name": "python3"
  },
  "language_info": {
   "codemirror_mode": {
    "name": "ipython",
    "version": 3
   },
   "file_extension": ".py",
   "mimetype": "text/x-python",
   "name": "python",
   "nbconvert_exporter": "python",
   "pygments_lexer": "ipython3",
   "version": "3.8.8"
  }
 },
 "nbformat": 4,
 "nbformat_minor": 5
}
=======
  "cells": [
    {
      "cell_type": "markdown",
      "source": [
        "# Gradient of a Single-Point Regression"
      ],
      "metadata": {
        "id": "u6hWCL7lpenS"
      },
      "id": "u6hWCL7lpenS"
    },
    {
      "cell_type": "code",
      "source": [
        "import torch"
      ],
      "metadata": {
        "id": "j33TxQRUpeHK"
      },
      "id": "j33TxQRUpeHK",
      "execution_count": 1,
      "outputs": []
    },
    {
      "cell_type": "code",
      "source": [
        "xs = torch.tensor([0, 1, 2, 3, 4, 5, 6, 7.])"
      ],
      "metadata": {
        "id": "vEa9h4b9pkhI"
      },
      "id": "vEa9h4b9pkhI",
      "execution_count": 2,
      "outputs": []
    },
    {
      "cell_type": "code",
      "source": [
        "ys = torch.tensor([1.86, 1.31, .62, .33, .09, -.67, -1.23, -1.37])"
      ],
      "metadata": {
        "id": "JBAGpQhZpkjR"
      },
      "id": "JBAGpQhZpkjR",
      "execution_count": 3,
      "outputs": []
    },
    {
      "cell_type": "code",
      "source": [
        "def regression(my_x, my_m, my_b):\n",
        "  return my_m*my_x + my_b"
      ],
      "metadata": {
        "id": "WkEIqp7spkly"
      },
      "id": "WkEIqp7spkly",
      "execution_count": 4,
      "outputs": []
    },
    {
      "cell_type": "code",
      "source": [
        "m = torch.tensor([0.9]).requires_grad_()"
      ],
      "metadata": {
        "id": "l0QaIV8upkoJ"
      },
      "id": "l0QaIV8upkoJ",
      "execution_count": 5,
      "outputs": []
    },
    {
      "cell_type": "code",
      "source": [
        "b = torch.tensor([0.1]).requires_grad_()"
      ],
      "metadata": {
        "id": "loKh_4DfpkqN"
      },
      "id": "loKh_4DfpkqN",
      "execution_count": 6,
      "outputs": []
    },
    {
      "cell_type": "code",
      "source": [
        "i = 7\n",
        "x = xs[i]\n",
        "y = ys[i]"
      ],
      "metadata": {
        "id": "voEo9JBFpksk"
      },
      "id": "voEo9JBFpksk",
      "execution_count": 7,
      "outputs": []
    },
    {
      "cell_type": "code",
      "source": [
        "x"
      ],
      "metadata": {
        "id": "36VQd6Zqpkuo",
        "outputId": "d346898d-7da9-4a37-f7ae-cacd5304a8ff",
        "colab": {
          "base_uri": "https://localhost:8080/"
        }
      },
      "id": "36VQd6Zqpkuo",
      "execution_count": 8,
      "outputs": [
        {
          "output_type": "execute_result",
          "data": {
            "text/plain": [
              "tensor(7.)"
            ]
          },
          "metadata": {},
          "execution_count": 8
        }
      ]
    },
    {
      "cell_type": "code",
      "source": [
        "y"
      ],
      "metadata": {
        "id": "8seOFokPpkw-",
        "outputId": "7669076e-9c37-4064-8920-5d1b7f7ac683",
        "colab": {
          "base_uri": "https://localhost:8080/"
        }
      },
      "id": "8seOFokPpkw-",
      "execution_count": 9,
      "outputs": [
        {
          "output_type": "execute_result",
          "data": {
            "text/plain": [
              "tensor(-1.3700)"
            ]
          },
          "metadata": {},
          "execution_count": 9
        }
      ]
    },
    {
      "cell_type": "markdown",
      "source": [
        "**Step 1:** Forward Pass"
      ],
      "metadata": {
        "id": "10OO4GDcqk0q"
      },
      "id": "10OO4GDcqk0q"
    },
    {
      "cell_type": "code",
      "source": [
        "yhat = regression(x, m, b)\n",
        "yhat"
      ],
      "metadata": {
        "id": "4rAYl0QSqkMC",
        "outputId": "3731fcb7-fbc1-4c74-b74e-ce952bb93ac0",
        "colab": {
          "base_uri": "https://localhost:8080/"
        }
      },
      "id": "4rAYl0QSqkMC",
      "execution_count": 10,
      "outputs": [
        {
          "output_type": "execute_result",
          "data": {
            "text/plain": [
              "tensor([6.4000], grad_fn=<AddBackward0>)"
            ]
          },
          "metadata": {},
          "execution_count": 10
        }
      ]
    },
    {
      "cell_type": "markdown",
      "source": [
        "**Step 2:** Compare ŷ with true y to calculate cost C"
      ],
      "metadata": {
        "id": "uqUBzP1pq2Go"
      },
      "id": "uqUBzP1pq2Go"
    },
    {
      "cell_type": "markdown",
      "metadata": {
        "id": "JtHOeylJNd43"
      },
      "source": [
        "In the *Regression in PyTorch* notebook, we used mean-squared error, which averages quadratic cost over multiple data points. With a single data point, here we can use quadratic cost alone. It is defined by: $$ C = (\\hat{y} - y)^2 $$"
      ],
      "id": "JtHOeylJNd43"
    },
    {
      "cell_type": "code",
      "source": [
        "def squared_error(my_yhat, my_y):\n",
        "  return (my_yhat - my_y)**2"
      ],
      "metadata": {
        "id": "CqsXLNBGpk5Y"
      },
      "id": "CqsXLNBGpk5Y",
      "execution_count": 11,
      "outputs": []
    },
    {
      "cell_type": "code",
      "source": [
        "C = squared_error(yhat, y)\n",
        "C"
      ],
      "metadata": {
        "id": "oYtUnlZoqjal",
        "outputId": "6772fbd3-31c3-4090-b3e7-6decfbbe220e",
        "colab": {
          "base_uri": "https://localhost:8080/"
        }
      },
      "id": "oYtUnlZoqjal",
      "execution_count": 12,
      "outputs": [
        {
          "output_type": "execute_result",
          "data": {
            "text/plain": [
              "tensor([60.3729], grad_fn=<PowBackward0>)"
            ]
          },
          "metadata": {},
          "execution_count": 12
        }
      ]
    },
    {
      "cell_type": "markdown",
      "source": [
        "**Step 3:** Use autodiff to calculate gradient of C w.r.t. parameters"
      ],
      "metadata": {
        "id": "yUxu7TU0roz4"
      },
      "id": "yUxu7TU0roz4"
    },
    {
      "cell_type": "code",
      "source": [
        "C.backward()"
      ],
      "metadata": {
        "id": "5gLn0Pp2qjdl"
      },
      "id": "5gLn0Pp2qjdl",
      "execution_count": 13,
      "outputs": []
    },
    {
      "cell_type": "markdown",
      "metadata": {
        "id": "eXQJxYduNd4-"
      },
      "source": [
        "The partial derivative of $C$ with respect to $m$ ($\\frac{\\partial C}{\\partial m}$) is:"
      ],
      "id": "eXQJxYduNd4-"
    },
    {
      "cell_type": "code",
      "source": [
        "m.grad"
      ],
      "metadata": {
        "id": "uCU08KsJriSq",
        "outputId": "80cd146f-72af-4f1d-96c1-85598e46f25b",
        "colab": {
          "base_uri": "https://localhost:8080/"
        }
      },
      "id": "uCU08KsJriSq",
      "execution_count": 14,
      "outputs": [
        {
          "output_type": "execute_result",
          "data": {
            "text/plain": [
              "tensor([108.7800])"
            ]
          },
          "metadata": {},
          "execution_count": 14
        }
      ]
    },
    {
      "cell_type": "markdown",
      "metadata": {
        "id": "EGK1NwomNd5B"
      },
      "source": [
        "And the partial derivative of $C$ with respect to $b$ ($\\frac{\\partial C}{\\partial b}$) is:"
      ],
      "id": "EGK1NwomNd5B"
    },
    {
      "cell_type": "code",
      "source": [
        "b.grad"
      ],
      "metadata": {
        "id": "Ajj0hzwUriWF",
        "outputId": "eed56eca-95c8-4a01-9cdb-9d6faee7b93c",
        "colab": {
          "base_uri": "https://localhost:8080/"
        }
      },
      "id": "Ajj0hzwUriWF",
      "execution_count": 15,
      "outputs": [
        {
          "output_type": "execute_result",
          "data": {
            "text/plain": [
              "tensor([15.5400])"
            ]
          },
          "metadata": {},
          "execution_count": 15
        }
      ]
    },
    {
      "cell_type": "markdown",
      "metadata": {
        "id": "wTgfR-wINd5F"
      },
      "source": [
        "$$ \\frac{\\partial C}{\\partial m} = 2x(\\hat{y} - y) $$"
      ],
      "id": "wTgfR-wINd5F"
    },
    {
      "cell_type": "code",
      "source": [
        "2*x*(yhat.item()-y)"
      ],
      "metadata": {
        "id": "cEKbN6B1qjfp",
        "outputId": "bfb0f105-68ea-4c41-c592-45ddffb11297",
        "colab": {
          "base_uri": "https://localhost:8080/"
        }
      },
      "id": "cEKbN6B1qjfp",
      "execution_count": 16,
      "outputs": [
        {
          "output_type": "execute_result",
          "data": {
            "text/plain": [
              "tensor(108.7800)"
            ]
          },
          "metadata": {},
          "execution_count": 16
        }
      ]
    },
    {
      "cell_type": "markdown",
      "metadata": {
        "id": "yCV3zMIjNd5H"
      },
      "source": [
        "$$ \\frac{\\partial C}{\\partial b} = 2(\\hat{y}-y) $$"
      ],
      "id": "yCV3zMIjNd5H"
    },
    {
      "cell_type": "code",
      "source": [
        "2*(yhat.item()-y)"
      ],
      "metadata": {
        "id": "bn6kUgDWyKH1",
        "outputId": "337ca894-e128-4d87-e836-25ecbc512705",
        "colab": {
          "base_uri": "https://localhost:8080/"
        }
      },
      "id": "bn6kUgDWyKH1",
      "execution_count": 17,
      "outputs": [
        {
          "output_type": "execute_result",
          "data": {
            "text/plain": [
              "tensor(15.5400)"
            ]
          },
          "metadata": {},
          "execution_count": 17
        }
      ]
    },
    {
      "cell_type": "markdown",
      "metadata": {
        "id": "zXor7Ev7Nd5J"
      },
      "source": [
        "### The Gradient of Cost, $\\nabla C$"
      ],
      "id": "zXor7Ev7Nd5J"
    },
    {
      "cell_type": "markdown",
      "metadata": {
        "id": "XeII8EHQNd5K"
      },
      "source": [
        "The gradient of cost, which is symbolized $\\nabla C$ (pronounced \"nabla C\"), is a vector of all the partial derivatives of $C$ with respect to each of the individual model parameters:"
      ],
      "id": "XeII8EHQNd5K"
    },
    {
      "cell_type": "markdown",
      "metadata": {
        "id": "kVnD7j3HNd5K"
      },
      "source": [
        "$\\nabla C = \\nabla_p C = \\left[ \\frac{\\partial{C}}{\\partial{p_1}}, \\frac{\\partial{C}}{\\partial{p_2}}, \\cdots, \\frac{\\partial{C}}{\\partial{p_n}} \\right]^T $"
      ],
      "id": "kVnD7j3HNd5K"
    },
    {
      "cell_type": "markdown",
      "metadata": {
        "id": "5Yq3BQ3YNd5L"
      },
      "source": [
        "$\\nabla C = \\left[ \\frac{\\partial{C}}{\\partial{b}}, \\frac{\\partial{C}}{\\partial{m}} \\right]^T $"
      ],
      "id": "5Yq3BQ3YNd5L"
    },
    {
      "cell_type": "code",
      "source": [
        "gradient = torch.tensor([[b.grad.item(), m.grad.item()]]).T\n",
        "gradient"
      ],
      "metadata": {
        "id": "OXyuPEQByKLY",
        "outputId": "1877e810-c29e-4364-84fd-1ab51abab178",
        "colab": {
          "base_uri": "https://localhost:8080/"
        }
      },
      "id": "OXyuPEQByKLY",
      "execution_count": 19,
      "outputs": [
        {
          "output_type": "execute_result",
          "data": {
            "text/plain": [
              "tensor([[ 15.5400],\n",
              "        [108.7800]])"
            ]
          },
          "metadata": {},
          "execution_count": 19
        }
      ]
    },
    {
      "cell_type": "code",
      "source": [
        ""
      ],
      "metadata": {
        "id": "k3DYJyEdyKNC"
      },
      "id": "k3DYJyEdyKNC",
      "execution_count": null,
      "outputs": []
    },
    {
      "cell_type": "code",
      "source": [],
      "metadata": {
        "id": "KQ1YfRQ2pi9i"
      },
      "id": "KQ1YfRQ2pi9i",
      "execution_count": null,
      "outputs": []
    }
  ],
  "metadata": {
    "colab": {
      "provenance": []
    },
    "language_info": {
      "name": "python"
    },
    "kernelspec": {
      "name": "python3",
      "display_name": "Python 3"
    }
  },
  "nbformat": 4,
  "nbformat_minor": 5
}
>>>>>>> f1e2f94c4fffae1dad017f98ff6903d64029cf9e
