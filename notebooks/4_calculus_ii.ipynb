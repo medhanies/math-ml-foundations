{
  "nbformat": 4,
  "nbformat_minor": 0,
  "metadata": {
    "colab": {
      "provenance": [],
      "authorship_tag": "ABX9TyOj4Q5Re5X9QAjGjBA/KZNL",
      "include_colab_link": true
    },
    "kernelspec": {
      "name": "python3",
      "display_name": "Python 3"
    },
    "language_info": {
      "name": "python"
    }
  },
  "cells": [
    {
      "cell_type": "markdown",
      "metadata": {
        "id": "view-in-github",
        "colab_type": "text"
      },
      "source": [
        "<a href=\"https://colab.research.google.com/github/medhanies/math-ml-foundations/blob/main/notebooks/4_calculus_ii.ipynb\" target=\"_parent\"><img src=\"https://colab.research.google.com/assets/colab-badge.svg\" alt=\"Open In Colab\"/></a>"
      ]
    },
    {
      "cell_type": "markdown",
      "source": [
        "# Calculus 2: Partial Derivatives and Integrals"
      ],
      "metadata": {
        "id": "PSofX0dlUvLa"
      }
    },
    {
      "cell_type": "markdown",
      "source": [
        "**Segment 2: Gradients Applied to Machine Learning**"
      ],
      "metadata": {
        "id": "P71IHuTkVAwM"
      }
    },
    {
      "cell_type": "code",
      "execution_count": 1,
      "metadata": {
        "id": "X-yHFhguUPIk"
      },
      "outputs": [],
      "source": [
        "import numpy as np\n",
        "import matplotlib.pyplot as plt\n",
        "import torch\n",
        "import math # for constant pi"
      ]
    },
    {
      "cell_type": "markdown",
      "source": [
        "Partial Derivatives of Multivariate Functions"
      ],
      "metadata": {
        "id": "H1qX4358VNXP"
      }
    },
    {
      "cell_type": "markdown",
      "source": [
        "Define a function $f(x, y)$ for $z = x^2 - y^2$:"
      ],
      "metadata": {
        "id": "jFJlEOYOVeOk"
      }
    },
    {
      "cell_type": "code",
      "source": [
        "def f(my_x, my_y):\n",
        "  return my_x**2 - my_y**2"
      ],
      "metadata": {
        "id": "jfbVKD_GUtCV"
      },
      "execution_count": 2,
      "outputs": []
    },
    {
      "cell_type": "code",
      "source": [
        "xs = np.linspace(-3, 3, 1000)"
      ],
      "metadata": {
        "id": "pedfl8aeUtFi"
      },
      "execution_count": 3,
      "outputs": []
    },
    {
      "cell_type": "code",
      "source": [
        "zs_wrt_x = f(xs, 0)"
      ],
      "metadata": {
        "id": "8McQ69rlUtIo"
      },
      "execution_count": 4,
      "outputs": []
    },
    {
      "cell_type": "code",
      "source": [
        "fig, ax = plt.subplots()\n",
        "plt.axvline(x=0, color='lightgray')\n",
        "plt.axhline(y=0, color='lightgray')\n",
        "\n",
        "plt.xlabel('x')\n",
        "plt.ylabel('z', rotation=0)\n",
        "_ = ax.plot(xs, zs_wrt_x)"
      ],
      "metadata": {
        "colab": {
          "base_uri": "https://localhost:8080/",
          "height": 449
        },
        "id": "oYd_FBldUtOJ",
        "outputId": "fa474234-8691-4110-df1c-64e235ce9c3d"
      },
      "execution_count": 5,
      "outputs": [
        {
          "output_type": "display_data",
          "data": {
            "text/plain": [
              "<Figure size 640x480 with 1 Axes>"
            ],
            "image/png": "[encoded data removed]"
          },
          "metadata": {}
        }
      ]
    },
    {
      "cell_type": "markdown",
      "source": [
        "To determine the slope of $z$ w.r.t. $x$ at a given point along the curve, we can use the partial derivative from the slides: $$ \\frac{\\partial z}{\\partial x} = 2x$$"
      ],
      "metadata": {
        "id": "bGDDPXtqWW0s"
      }
    },
    {
      "cell_type": "code",
      "source": [
        "def delz_delx(my_x, my_y): # y inst relevant for this partial derivative\n",
        "  return 2*my_x"
      ],
      "metadata": {
        "id": "mb0S6gIJUtUM"
      },
      "execution_count": 10,
      "outputs": []
    },
    {
      "cell_type": "code",
      "source": [
        "x_samples = [-2, -2, 0, 1, 2]"
      ],
      "metadata": {
        "id": "NVvURcmzUtXF"
      },
      "execution_count": 11,
      "outputs": []
    },
    {
      "cell_type": "code",
      "source": [
        "colors = ['red', 'orange', 'green', 'blue', 'purple']"
      ],
      "metadata": {
        "id": "WhwTa-IqUtiA"
      },
      "execution_count": 12,
      "outputs": []
    },
    {
      "cell_type": "code",
      "source": [
        "def point_and_tangent_wrt_x(my_xs, my_x, my_y, my_f, fprime, col):\n",
        "\n",
        "  my_z = my_f(my_x, my_y) # z = f(x, y)\n",
        "  plt.scatter(my_x, my_z, c=col, zorder=3)\n",
        "\n",
        "  tangent_m = fprime(my_x, my_y) # Slope is partial derivative of f(x,y) w.r.t. x\n",
        "  tangent_b = my_z - tangent_m*my_x # Line is z=mx+b, so b=z-mx\n",
        "  tangent_line = tangent_m*my_xs + tangent_b\n",
        "\n",
        "  plt.plot(my_xs, tangent_line, c=col,\n",
        "           linestyle='dashed', linewidth=0.7, zorder=3)"
      ],
      "metadata": {
        "id": "rrpN9sk1Utlt"
      },
      "execution_count": 13,
      "outputs": []
    },
    {
      "cell_type": "code",
      "source": [
        "fig, ax = plt.subplots()\n",
        "plt.axvline(x=0, color='lightgray')\n",
        "plt.axhline(y=0, color='lightgray')\n",
        "\n",
        "for i, x in enumerate(x_samples):\n",
        "  point_and_tangent_wrt_x(xs, x, 0, f, delz_delx, colors[i])\n",
        "\n",
        "plt.ylim(-1, 9)\n",
        "plt.xlabel('x')\n",
        "plt.ylabel('z', rotation=0)\n",
        "_ = ax.plot(xs, zs_wrt_x)"
      ],
      "metadata": {
        "colab": {
          "base_uri": "https://localhost:8080/",
          "height": 449
        },
        "id": "DqN18IYaUtmm",
        "outputId": "1c7ccb05-07e2-4cda-85d6-7c1dcabcfcb0"
      },
      "execution_count": 14,
      "outputs": [
        {
          "output_type": "display_data",
          "data": {
            "text/plain": [
              "<Figure size 640x480 with 1 Axes>"
            ],
            "image/png": "[encoded data removed]"
          },
          "metadata": {}
        }
      ]
    },
    {
      "cell_type": "code",
      "source": [
        "ys = np.linspace(-3, 3, 1000)"
      ],
      "metadata": {
        "id": "DZ-o-dVlYfDe"
      },
      "execution_count": 15,
      "outputs": []
    },
    {
      "cell_type": "code",
      "source": [
        "zs_wrt_y = f(0, ys)"
      ],
      "metadata": {
        "id": "mju0095AYe6x"
      },
      "execution_count": 16,
      "outputs": []
    },
    {
      "cell_type": "code",
      "source": [
        "fig, ax = plt.subplots()\n",
        "plt.axvline(x=0, color='lightgray')\n",
        "plt.axhline(y=0, color='lightgray')\n",
        "\n",
        "plt.xlabel('y')\n",
        "plt.ylabel('z', rotation=0)\n",
        "_ = ax.plot(ys, zs_wrt_y)"
      ],
      "metadata": {
        "colab": {
          "base_uri": "https://localhost:8080/",
          "height": 449
        },
        "id": "2K9Or8ivYe2x",
        "outputId": "44074f4c-7aca-462b-f4f0-d5be0eb79600"
      },
      "execution_count": 17,
      "outputs": [
        {
          "output_type": "display_data",
          "data": {
            "text/plain": [
              "<Figure size 640x480 with 1 Axes>"
            ],
            "image/png": "[encoded data removed]"
          },
          "metadata": {}
        }
      ]
    },
    {
      "cell_type": "markdown",
      "metadata": {
        "id": "yftPl60zDoeb"
      },
      "source": [
        "As in the slides, the partial derivative of $z$ w.r.t $y$ happens to be independent of $x$ (just as we observed $x$ is independent of $y$ above), so while $z$ varies as a function of both $x$ and $y$, the slope of $z$ w.r.t $y$ is the same no matter what $x$ is: $$ \\frac{\\partial z}{\\partial y} = -2y $$"
      ]
    },
    {
      "cell_type": "code",
      "source": [
        "zs_wrt_y = f(2, ys)"
      ],
      "metadata": {
        "id": "tD_DHyEQYezO"
      },
      "execution_count": 18,
      "outputs": []
    },
    {
      "cell_type": "code",
      "source": [
        "fig, ax = plt.subplots()\n",
        "plt.axvline(x=0, color='lightgray')\n",
        "plt.axhline(y=0, color='lightgray')\n",
        "\n",
        "plt.xlabel('y')\n",
        "plt.ylabel('z', rotation=0)\n",
        "_ = ax.plot(ys, zs_wrt_y)"
      ],
      "metadata": {
        "colab": {
          "base_uri": "https://localhost:8080/",
          "height": 449
        },
        "id": "8D-gD30hYeuT",
        "outputId": "ea2bbbe9-e527-43f4-8684-f7b52ca2be46"
      },
      "execution_count": 19,
      "outputs": [
        {
          "output_type": "display_data",
          "data": {
            "text/plain": [
              "<Figure size 640x480 with 1 Axes>"
            ],
            "image/png": "[encoded data removed]"
          },
          "metadata": {}
        }
      ]
    },
    {
      "cell_type": "code",
      "source": [
        "def delz_dely(my_x, my_y):\n",
        "  return -2*my_y"
      ],
      "metadata": {
        "id": "XQID4tOCYeoG"
      },
      "execution_count": 20,
      "outputs": []
    },
    {
      "cell_type": "code",
      "source": [
        "y_samples = [-2, -1, 0, 1, 2]"
      ],
      "metadata": {
        "id": "yQy3bxmJYekW"
      },
      "execution_count": 21,
      "outputs": []
    },
    {
      "cell_type": "code",
      "source": [
        "def point_and_tangent_wrt_y(my_ys, my_x, my_y, my_f, fprime, col): # changed my_xs to my_ys\n",
        "\n",
        "  my_z = my_f(my_x, my_y)\n",
        "  plt.scatter(my_y, my_z, c=col, zorder=3) # changed my_x to my_y\n",
        "\n",
        "  tangent_m = fprime(my_x, my_y)\n",
        "  tangent_b = my_z - tangent_m*my_y # changed my_x to my_y\n",
        "  tangent_line = tangent_m*my_ys + tangent_b # changed my_xs to my_ys\n",
        "\n",
        "  plt.plot(my_ys, tangent_line, c=col, linestyle='dashed', linewidth=0.7, zorder=3) # changed my_xs to my_ys"
      ],
      "metadata": {
        "id": "Xz63RvT3Yehu"
      },
      "execution_count": 26,
      "outputs": []
    },
    {
      "cell_type": "code",
      "source": [
        "fig, ax = plt.subplots()\n",
        "plt.axvline(x=0, color='lightgray')\n",
        "plt.axhline(y=0, color='lightgray')\n",
        "\n",
        "for i, y in enumerate(y_samples):\n",
        "  point_and_tangent_wrt_y(ys, 2, y, f, delz_dely, colors[i])\n",
        "\n",
        "plt.ylim(-5, 5)\n",
        "plt.xlabel('y')\n",
        "plt.ylabel('z', rotation=0)\n",
        "_ = ax.plot(xs, zs_wrt_y)"
      ],
      "metadata": {
        "colab": {
          "base_uri": "https://localhost:8080/",
          "height": 449
        },
        "id": "1HSmw6oJYee_",
        "outputId": "14a262ed-ae6e-4279-a7ad-bedbc46d89d0"
      },
      "execution_count": 27,
      "outputs": [
        {
          "output_type": "display_data",
          "data": {
            "text/plain": [
              "<Figure size 640x480 with 1 Axes>"
            ],
            "image/png": "[encoded data removed]"
          },
          "metadata": {}
        }
      ]
    },
    {
      "cell_type": "markdown",
      "source": [
        "Autodiff to calc. slope of z w.r.t. x and y"
      ],
      "metadata": {
        "id": "BpaJDUbHkkt7"
      }
    },
    {
      "cell_type": "code",
      "source": [
        "x = torch.tensor(-2.).requires_grad_()\n",
        "x"
      ],
      "metadata": {
        "colab": {
          "base_uri": "https://localhost:8080/"
        },
        "id": "sH-BxWDxYeWp",
        "outputId": "ed89b8ee-89d9-4e99-c7c5-7f4ece82ef31"
      },
      "execution_count": 40,
      "outputs": [
        {
          "output_type": "execute_result",
          "data": {
            "text/plain": [
              "tensor(-2., requires_grad=True)"
            ]
          },
          "metadata": {},
          "execution_count": 40
        }
      ]
    },
    {
      "cell_type": "code",
      "source": [
        "y = torch.tensor(-3.).requires_grad_()\n",
        "y"
      ],
      "metadata": {
        "colab": {
          "base_uri": "https://localhost:8080/"
        },
        "id": "SvXWAC7nUtot",
        "outputId": "7504deb3-dd32-49a9-a281-eac2ee0e3cb5"
      },
      "execution_count": 41,
      "outputs": [
        {
          "output_type": "execute_result",
          "data": {
            "text/plain": [
              "tensor(-3., requires_grad=True)"
            ]
          },
          "metadata": {},
          "execution_count": 41
        }
      ]
    },
    {
      "cell_type": "code",
      "source": [
        "z = f(x, y) # forward pass"
      ],
      "metadata": {
        "id": "9lCEPVUjUtrN"
      },
      "execution_count": 42,
      "outputs": []
    },
    {
      "cell_type": "code",
      "source": [
        "z.backward() # autodiff"
      ],
      "metadata": {
        "id": "KhWyl3uEUttu"
      },
      "execution_count": 43,
      "outputs": []
    },
    {
      "cell_type": "code",
      "source": [
        "x.grad"
      ],
      "metadata": {
        "colab": {
          "base_uri": "https://localhost:8080/"
        },
        "id": "wx6yHkL4UtwW",
        "outputId": "abfd5dd8-2884-4624-efed-073b01619d5d"
      },
      "execution_count": 44,
      "outputs": [
        {
          "output_type": "execute_result",
          "data": {
            "text/plain": [
              "tensor(-4.)"
            ]
          },
          "metadata": {},
          "execution_count": 44
        }
      ]
    },
    {
      "cell_type": "code",
      "source": [
        "y.grad"
      ],
      "metadata": {
        "colab": {
          "base_uri": "https://localhost:8080/"
        },
        "id": "mH1w1PGuUty7",
        "outputId": "ec364257-f82b-4dd1-fee2-60f9fcf56f19"
      },
      "execution_count": 45,
      "outputs": [
        {
          "output_type": "execute_result",
          "data": {
            "text/plain": [
              "tensor(6.)"
            ]
          },
          "metadata": {},
          "execution_count": 45
        }
      ]
    },
    {
      "cell_type": "code",
      "source": [
        "import tensorflow as tf\n",
        "\n",
        "x = tf.Variable(-5.0)"
      ],
      "metadata": {
        "id": "mZAccTcfUt1V"
      },
      "execution_count": 90,
      "outputs": []
    },
    {
      "cell_type": "code",
      "source": [
        "y = tf.Variable(-7.0)"
      ],
      "metadata": {
        "id": "JrSYguqTUt4J"
      },
      "execution_count": 91,
      "outputs": []
    },
    {
      "cell_type": "code",
      "source": [
        "with tf.GradientTape(persistent=True) as t:\n",
        "  t.watch(x)\n",
        "  t.watch(y)\n",
        "  z = x**2 - y**2"
      ],
      "metadata": {
        "id": "NRviGB_HUt6u"
      },
      "execution_count": 95,
      "outputs": []
    },
    {
      "cell_type": "code",
      "source": [
        "t.gradient(z,y)"
      ],
      "metadata": {
        "colab": {
          "base_uri": "https://localhost:8080/"
        },
        "id": "vKckP_slUt9F",
        "outputId": "52703364-737c-4e54-ea71-74c288c807ee"
      },
      "execution_count": 96,
      "outputs": [
        {
          "output_type": "execute_result",
          "data": {
            "text/plain": [
              "<tf.Tensor: shape=(), dtype=float32, numpy=14.0>"
            ]
          },
          "metadata": {},
          "execution_count": 96
        }
      ]
    },
    {
      "cell_type": "code",
      "source": [
        "t.gradient(z,x)"
      ],
      "metadata": {
        "colab": {
          "base_uri": "https://localhost:8080/"
        },
        "id": "RusPNL8fUt_u",
        "outputId": "9530688e-0fb5-4de6-ba13-b04a5fd95807"
      },
      "execution_count": 97,
      "outputs": [
        {
          "output_type": "execute_result",
          "data": {
            "text/plain": [
              "<tf.Tensor: shape=(), dtype=float32, numpy=-10.0>"
            ]
          },
          "metadata": {},
          "execution_count": 97
        }
      ]
    },
    {
      "cell_type": "markdown",
      "source": [
        "**Partial Derivatives of a Cylinder's Volume**"
      ],
      "metadata": {
        "id": "JgpSCP1MqoVb"
      }
    },
    {
      "cell_type": "code",
      "source": [
        "def cylinder_vol(my_r, my_l):\n",
        "  return math.pi * my_r**2 * my_l"
      ],
      "metadata": {
        "id": "rWisMwCzUuCm"
      },
      "execution_count": 98,
      "outputs": []
    },
    {
      "cell_type": "code",
      "source": [
        "r = torch.tensor(3.).requires_grad_()"
      ],
      "metadata": {
        "id": "VbalJaMkpHPX"
      },
      "execution_count": 99,
      "outputs": []
    },
    {
      "cell_type": "code",
      "source": [
        "l = torch.tensor(5.).requires_grad_()"
      ],
      "metadata": {
        "id": "EWjoeH8QpHC4"
      },
      "execution_count": 100,
      "outputs": []
    },
    {
      "cell_type": "code",
      "source": [],
      "metadata": {
        "id": "vhZbAsswpG4X"
      },
      "execution_count": 102,
      "outputs": []
    },
    {
      "cell_type": "code",
      "source": [],
      "metadata": {
        "id": "9P2gGAWopG0m"
      },
      "execution_count": null,
      "outputs": []
    },
    {
      "cell_type": "code",
      "source": [],
      "metadata": {
        "id": "AD3zltfhpGuO"
      },
      "execution_count": null,
      "outputs": []
    },
    {
      "cell_type": "code",
      "source": [],
      "metadata": {
        "id": "i7ygoonopGkU"
      },
      "execution_count": null,
      "outputs": []
    },
    {
      "cell_type": "code",
      "source": [],
      "metadata": {
        "id": "hXNoYPDcpGWm"
      },
      "execution_count": null,
      "outputs": []
    },
    {
      "cell_type": "code",
      "source": [],
      "metadata": {
        "id": "NqeqfmsFpEuY"
      },
      "execution_count": null,
      "outputs": []
    },
    {
      "cell_type": "code",
      "source": [],
      "metadata": {
        "id": "dmjZ4Y7GpEpu"
      },
      "execution_count": null,
      "outputs": []
    },
    {
      "cell_type": "code",
      "source": [],
      "metadata": {
        "id": "fzSXHFTWpEgI"
      },
      "execution_count": null,
      "outputs": []
    },
    {
      "cell_type": "code",
      "source": [],
      "metadata": {
        "id": "D-Iyd9gmpEc5"
      },
      "execution_count": null,
      "outputs": []
    },
    {
      "cell_type": "code",
      "source": [],
      "metadata": {
        "id": "2bASdpWrpEYM"
      },
      "execution_count": null,
      "outputs": []
    },
    {
      "cell_type": "code",
      "source": [],
      "metadata": {
        "id": "u8zVDRZUpEVh"
      },
      "execution_count": null,
      "outputs": []
    },
    {
      "cell_type": "code",
      "source": [],
      "metadata": {
        "id": "1gTw86kKpERE"
      },
      "execution_count": null,
      "outputs": []
    },
    {
      "cell_type": "code",
      "source": [],
      "metadata": {
        "id": "brCSoDPQpENS"
      },
      "execution_count": null,
      "outputs": []
    },
    {
      "cell_type": "code",
      "source": [],
      "metadata": {
        "id": "inNZtIbopEJc"
      },
      "execution_count": null,
      "outputs": []
    },
    {
      "cell_type": "code",
      "source": [],
      "metadata": {
        "id": "kM2avRDZpEFk"
      },
      "execution_count": null,
      "outputs": []
    },
    {
      "cell_type": "code",
      "source": [],
      "metadata": {
        "id": "BTLNjbFGpEDT"
      },
      "execution_count": null,
      "outputs": []
    },
    {
      "cell_type": "code",
      "source": [],
      "metadata": {
        "id": "beiku1lQpEAu"
      },
      "execution_count": null,
      "outputs": []
    },
    {
      "cell_type": "code",
      "source": [],
      "metadata": {
        "id": "NmzpV5OZpD4e"
      },
      "execution_count": null,
      "outputs": []
    },
    {
      "cell_type": "code",
      "source": [],
      "metadata": {
        "id": "ESdjqzXMUuFa"
      },
      "execution_count": null,
      "outputs": []
    },
    {
      "cell_type": "code",
      "source": [],
      "metadata": {
        "id": "iiIDsr1DUuIY"
      },
      "execution_count": null,
      "outputs": []
    },
    {
      "cell_type": "code",
      "source": [],
      "metadata": {
        "id": "db17W2CTUuK_"
      },
      "execution_count": null,
      "outputs": []
    },
    {
      "cell_type": "code",
      "source": [],
      "metadata": {
        "id": "vCox5j_PUuNl"
      },
      "execution_count": null,
      "outputs": []
    },
    {
      "cell_type": "code",
      "source": [],
      "metadata": {
        "id": "5DtPmUzcUuQ4"
      },
      "execution_count": null,
      "outputs": []
    }
  ]
}